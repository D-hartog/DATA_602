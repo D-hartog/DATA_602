{
 "cells": [
  {
   "cell_type": "markdown",
   "id": "f15d5a75-77f4-4918-b887-d372bd84ea06",
   "metadata": {},
   "source": [
    "# DATA 602: Advanced Programming Techniques: \n",
    "## Week 2 Assignment\n",
    "### Dirk Hartog"
   ]
  },
  {
   "cell_type": "markdown",
   "id": "ac44cd85-5330-4f06-a3ee-49f4bcec50c8",
   "metadata": {},
   "source": [
    "### Q1: Fix all the syntax and logical errors in the given source code add comments to explain your reasoning.\n",
    "\n",
    "- This program gets three test scores and displays their average.  It congratulates the user if the average is a high score. The high score variable holds the value that is considered a high score."
   ]
  },
  {
   "cell_type": "code",
   "execution_count": null,
   "id": "1604ad6b-b3fa-4193-babe-f17b05c7e5ba",
   "metadata": {
    "tags": []
   },
   "outputs": [],
   "source": [
    "# FIX: rename HIGH_SCORE to high_score \n",
    "high_score = 95\n",
    "\n",
    "# Get the test scores.\n",
    "\n",
    "test1 = input('Enter the score for test 1: ')\n",
    "\n",
    "test2 = input('Enter the score for test 2: ')\n",
    "\n",
    "# FIX:Create one more test variable\n",
    "test3 = input('Enter the score for test 2: ')\n",
    "\n",
    "# Calculate the average test score.\n",
    "\n",
    "# FIX: Need to convert the input variables to type integer since input() returns strings\n",
    "average = (float(test1) + float(test2) + float(test3)) / 3\n",
    "\n",
    "# Print the average.\n",
    "print('The average score is', average)\n",
    "\n",
    "# If the average is a high score, congratulate the user.\n",
    "\n",
    "# FIX: Add an else clause that prints out a different message if the average score is less than 95\n",
    "if average >= high_score:\n",
    "    print('Congratulations!')\n",
    "else:\n",
    "    print('That is a great average!')"
   ]
  },
  {
   "cell_type": "markdown",
   "id": "02da768a-475a-4246-94f2-07383733d30a",
   "metadata": {},
   "source": [
    "### Q2: The area of a rectangle is the rectangle’s length times its width.\n",
    "- Write a program that asks for the length and width of two rectangles and prints to the user the area of both rectangles."
   ]
  },
  {
   "cell_type": "code",
   "execution_count": 7,
   "id": "d31d4c86-542a-4f21-9c91-2f3a025549c7",
   "metadata": {},
   "outputs": [
    {
     "name": "stdin",
     "output_type": "stream",
     "text": [
      "Please choose a length for rectangle 1:  5\n",
      "Please choose a width for your rectangle 1:  6\n",
      "Please choose a length for rectangle 2:  7\n",
      "Please choose a width for your rectangle 2:  89\n"
     ]
    },
    {
     "name": "stdout",
     "output_type": "stream",
     "text": [
      "\n",
      "The area of rectangle 1 is 30.0.\n",
      "The area of rectangle 2 is 623.0\n"
     ]
    }
   ],
   "source": [
    "# Rectangle 1\n",
    "length1 = float(input(\"Please choose a length for rectangle 1: \"))\n",
    "width1 = float(input(\"Please choose a width for your rectangle 1: \"))\n",
    "\n",
    "# Rectangle 2\n",
    "length2 = float(input(\"Please choose a length for rectangle 2: \"))\n",
    "width2 = float(input(\"Please choose a width for your rectangle 2: \"))\n",
    "\n",
    "print(f'\\nThe area of rectangle 1 is {length1 * width1}.\\nThe area of rectangle 2 is {length2 * width2}')"
   ]
  },
  {
   "cell_type": "markdown",
   "id": "8a83013f-9e91-4608-b116-80edabfd84b8",
   "metadata": {},
   "source": [
    "### Q3: Ask a user to enter their first name and their age and assign it to the variables name and age.\n",
    "- The variable name should be a string and the variable age should be an int.\n",
    "- Using the variables name and age, print a message to the user stating something along the lines of:\n",
    "    \"Happy birthday, name!  You are age years old today!\"\n"
   ]
  },
  {
   "cell_type": "code",
   "execution_count": 28,
   "id": "1d42be96-ff97-4f6e-a4fa-da674b1402c4",
   "metadata": {},
   "outputs": [
    {
     "name": "stdin",
     "output_type": "stream",
     "text": [
      "What is your first name? Dirk \n",
      "What is your age? 39\n"
     ]
    },
    {
     "name": "stdout",
     "output_type": "stream",
     "text": [
      "Hello Dirk ! You are 39 years old must and must have been between 1984 and 1985!\n"
     ]
    }
   ],
   "source": [
    "from datetime import datetime as dt\n",
    "\n",
    "# Get variables name and age \n",
    "name = input(\"What is your first name?\")\n",
    "age = int(input(\"What is your age?\"))\n",
    "\n",
    "today = dt.today()\n",
    "\n",
    "print(f'Hello {name}! You are {age} years old must and must have been between {(today.year - age) - 1} and {today.year - age}!')"
   ]
  },
  {
   "cell_type": "code",
   "execution_count": null,
   "id": "6da050f5-0143-437c-9ba7-878b778e7d70",
   "metadata": {},
   "outputs": [],
   "source": []
  }
 ],
 "metadata": {
  "kernelspec": {
   "display_name": "Python 3 (ipykernel)",
   "language": "python",
   "name": "python3"
  },
  "language_info": {
   "codemirror_mode": {
    "name": "ipython",
    "version": 3
   },
   "file_extension": ".py",
   "mimetype": "text/x-python",
   "name": "python",
   "nbconvert_exporter": "python",
   "pygments_lexer": "ipython3",
   "version": "3.9.13"
  }
 },
 "nbformat": 4,
 "nbformat_minor": 5
}
