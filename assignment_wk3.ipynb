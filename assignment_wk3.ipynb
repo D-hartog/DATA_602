{
 "cells": [
  {
   "cell_type": "markdown",
   "id": "f15d5a75-77f4-4918-b887-d372bd84ea06",
   "metadata": {},
   "source": [
    "# DATA 602: Advanced Programming Techniques: \n",
    "## Week 3 Assignment\n",
    "### Dirk Hartog"
   ]
  },
  {
   "cell_type": "markdown",
   "id": "ac44cd85-5330-4f06-a3ee-49f4bcec50c8",
   "metadata": {},
   "source": [
    "### Q1a. What will the following code display?\n",
    "\n",
    "numbers = [1, 2, 3, 4, 5]\n",
    "\n",
    "print(numbers[1:-5])\n",
    "\n",
    "The following code will display an empty list"
   ]
  },
  {
   "cell_type": "code",
   "execution_count": 35,
   "id": "e1973877-b751-4d33-89f9-1aec54ab9c56",
   "metadata": {},
   "outputs": [
    {
     "name": "stdout",
     "output_type": "stream",
     "text": [
      "[]\n"
     ]
    }
   ],
   "source": [
    "numbers = [1, 2, 3, 4, 5]\n",
    "print(numbers[1:-5])"
   ]
  },
  {
   "cell_type": "markdown",
   "id": "ad12cd3f-6e4f-4530-84a1-eb0f15e0508d",
   "metadata": {},
   "source": [
    "### Q1b. Can you debug and fix the output? The code should return the entire list"
   ]
  },
  {
   "cell_type": "code",
   "execution_count": 39,
   "id": "1604ad6b-b3fa-4193-babe-f17b05c7e5ba",
   "metadata": {
    "tags": []
   },
   "outputs": [
    {
     "name": "stdout",
     "output_type": "stream",
     "text": [
      "[1, 2, 3, 4, 5]\n",
      "[1, 2, 3, 4, 5]\n",
      "[1, 2, 3, 4, 5]\n"
     ]
    }
   ],
   "source": [
    "numbers = [1, 2, 3, 4, 5]\n",
    "# There are a few ways to return the full list\n",
    "print(numbers[:])\n",
    "print(numbers[0:])\n",
    "print(numbers[:len(numbers) + 1])"
   ]
  },
  {
   "cell_type": "markdown",
   "id": "02da768a-475a-4246-94f2-07383733d30a",
   "metadata": {},
   "source": [
    "### Q2. Design a program that asks the user to enter a store’s sales for each day of the week. \n",
    "- The amounts should be stored in a list. \n",
    "- Use a loop to calculate the total sales for the week and display the result."
   ]
  },
  {
   "cell_type": "code",
   "execution_count": 42,
   "id": "d31d4c86-542a-4f21-9c91-2f3a025549c7",
   "metadata": {},
   "outputs": [
    {
     "name": "stdin",
     "output_type": "stream",
     "text": [
      "Please enter the total sales for Monday: 10\n",
      "Please enter the total sales for Tuesday: 10\n",
      "Please enter the total sales for Wednesday: 20\n",
      "Please enter the total sales for Thursday: 20\n",
      "Please enter the total sales for Friday: 30\n",
      "Please enter the total sales for Saturday: 30\n",
      "Please enter the total sales for Sunday: 15\n"
     ]
    },
    {
     "name": "stdout",
     "output_type": "stream",
     "text": [
      "Your total sales for the week are 135.0\n"
     ]
    }
   ],
   "source": [
    "i = 7\n",
    "day_names = [\"Monday\", \"Tuesday\", \"Wednesday\", \"Thursday\", \"Friday\", \"Saturday\", \"Sunday\"]\n",
    "weekly_sales = []\n",
    "\n",
    "for i in range(len(day_names)): \n",
    "    sales = input(f'Please enter the total sales for {day_names[i]}:')\n",
    "    sales_float = float(sales)\n",
    "    weekly_sales.append(sales_float)\n",
    "\n",
    "total_sales = 0\n",
    "for sale in weekly_sales: \n",
    "    total_sales += sale\n",
    "\n",
    "print(f'Your total sales for the week are {total_sales}')"
   ]
  },
  {
   "cell_type": "markdown",
   "id": "8a83013f-9e91-4608-b116-80edabfd84b8",
   "metadata": {},
   "source": [
    "### Q3. Create a list with at least 5 places you’d like to travel to. Make sure the list isn’t in alphabetical order\n",
    "- Print your list in its original order.\n",
    "- Use the sort() function to arrange your list in order and reprint your list.\n",
    "- Use the sort(reverse=True) and reprint your list."
   ]
  },
  {
   "cell_type": "code",
   "execution_count": 43,
   "id": "6da050f5-0143-437c-9ba7-878b778e7d70",
   "metadata": {},
   "outputs": [
    {
     "name": "stdout",
     "output_type": "stream",
     "text": [
      "['Kyoto', 'Paris', 'Australia', 'Berlin', 'South Korea']\n",
      "['Australia', 'Berlin', 'Kyoto', 'Paris', 'South Korea']\n",
      "['South Korea', 'Paris', 'Kyoto', 'Berlin', 'Australia']\n"
     ]
    }
   ],
   "source": [
    "travel_list = [\"Kyoto\", \"Paris\", \"Australia\", \"Berlin\", \"South Korea\"]\n",
    "print(travel_list)\n",
    "\n",
    "travel_list.sort()\n",
    "print(travel_list)\n",
    "\n",
    "travel_list.sort(reverse = True)\n",
    "print(travel_list)"
   ]
  },
  {
   "cell_type": "markdown",
   "id": "784aa130-426a-4046-9c97-bea1b3b9eda9",
   "metadata": {},
   "source": [
    "### Q4. Write a program that creates a dictionary containing course numbers and the room numbers of the rooms where the courses meet. The program should also create a dictionary containing course numbers and the names of the instructors that teach each course. \n",
    "\n",
    "- After that, the program should let the user enter a course number, then it should display the course’s room number, instructor, and meeting time."
   ]
  },
  {
   "cell_type": "code",
   "execution_count": 44,
   "id": "ff2443ab-956d-42e4-bdf2-e90ef81bf831",
   "metadata": {},
   "outputs": [
    {
     "name": "stdin",
     "output_type": "stream",
     "text": [
      "For information about your course, enter the course number (602,605, 606, 607) 607\n"
     ]
    },
    {
     "name": "stdout",
     "output_type": "stream",
     "text": [
      "DATA 607 INFORMATION:\n",
      "\n",
      "Room number: 3\n",
      "Instructor: Peter Kowalchuk\n",
      "Meeting time: Wednesdays at 7:00 PM\n"
     ]
    }
   ],
   "source": [
    "courses = {\n",
    "    \n",
    "    \"602\" : {\"Room\" : 2, \"Instructor\" : \"Nicholas Schettini\", \"Time\" : \"Thursdays at 6:00 PM\"},\n",
    "    \"605\" : {\"Room\" : 4, \"Instructor\" : \"Lawrence Fulton\", \"Time\" : \"Tuesdays at 6:00 PM\"},\n",
    "    \"606\" : {\"Room\" : 1, \"Instructor\" : \"Angela Lui\", \"Time\" : \"Wednesdays at 8:00 PM\"},\n",
    "    \"607\" : {\"Room\" : 3, \"Instructor\" : \"Peter Kowalchuk\", \"Time\" : \"Wednesdays at 7:00 PM\"}\n",
    "     \n",
    "}\n",
    "\n",
    "course_num = input(\"For information about your course, enter the course number (602,605, 606, 607)\")\n",
    "\n",
    "print(f'''DATA {course_num} INFORMATION:\\n\n",
    "Room number: {courses[course_num][\"Room\"]}\n",
    "Instructor: {courses[course_num][\"Instructor\"]}\n",
    "Meeting time: {courses[course_num][\"Time\"]}''')"
   ]
  },
  {
   "cell_type": "markdown",
   "id": "7b7dff9f-f22f-4f14-829e-b2e6810d6b99",
   "metadata": {},
   "source": [
    "### Q5. Write a program that keeps names and email addresses in a dictionary as key-value pairs. \n",
    "\n",
    "**The program should then demonstrate the four options:**\n",
    "- look up a person’s email address,\n",
    "- add a new name and email address,\n",
    "- change an existing email address, and\n",
    "- delete an existing name and email address."
   ]
  },
  {
   "cell_type": "code",
   "execution_count": 45,
   "id": "b1757b26-828f-45ce-9a05-d91e15389d10",
   "metadata": {},
   "outputs": [],
   "source": [
    "emails = {\n",
    "    \n",
    "\"Peter Parker\" : \"pparker@thedailybugle.com\",\n",
    "\"Norman Osborn\" : \"normanosborn@oscorp.org\",\n",
    "\"Nick Fury\" : \"fury@shield.gov\",\n",
    "\"Tony Stark\" : \"tonystark@starkindustries.com\",\n",
    "\"Wanda Maximoff\" : \"scarlettwitch@avengers.com\",\n",
    "\"Susan Storm\" : \"sustorm@baxterbldg.com\"\n",
    "    \n",
    "}\n"
   ]
  },
  {
   "cell_type": "code",
   "execution_count": 46,
   "id": "eef36274-d9ea-4473-b77f-7bd5bf7b6946",
   "metadata": {},
   "outputs": [
    {
     "name": "stdin",
     "output_type": "stream",
     "text": [
      "Enter a name: Nick Fury\n"
     ]
    },
    {
     "name": "stdout",
     "output_type": "stream",
     "text": [
      "fury@shield.gov\n"
     ]
    }
   ],
   "source": [
    "# look up a person’s email address\n",
    "\n",
    "def look_up():\n",
    "    name = input(\"Enter a name:\")\n",
    "    print(emails[name])\n",
    "\n",
    "look_up()"
   ]
  },
  {
   "cell_type": "code",
   "execution_count": 47,
   "id": "abf813e9-046b-4fc6-9630-6dfd40bf7ad1",
   "metadata": {},
   "outputs": [
    {
     "name": "stdin",
     "output_type": "stream",
     "text": [
      "Enter the name you would like to add to the list: T'Challa\n",
      "Enter their email address:  blackpanther@wakanda.com\n"
     ]
    },
    {
     "name": "stdout",
     "output_type": "stream",
     "text": [
      "New contact entered T'Challa : blackpanther@wakanda.com\n"
     ]
    }
   ],
   "source": [
    "# add a new name and email address,\n",
    "\n",
    "def add_email():\n",
    "    name = input(\"Enter the name you would like to add to the list:\")\n",
    "    email_address = input(\"Enter their email address: \")\n",
    "    emails[name] = email_address\n",
    "    print(f'New contact entered {name} : {emails[name]}')\n",
    "\n",
    "add_email()"
   ]
  },
  {
   "cell_type": "code",
   "execution_count": 48,
   "id": "f48eb4a3-37e7-44f2-8ba5-33b4bf2dd084",
   "metadata": {},
   "outputs": [
    {
     "name": "stdin",
     "output_type": "stream",
     "text": [
      "Enter a name: Susan Storm\n",
      "Enter the new email address:  sustorm@ff.org\n"
     ]
    },
    {
     "name": "stdout",
     "output_type": "stream",
     "text": [
      "Susan Storm's email has been updated\n"
     ]
    }
   ],
   "source": [
    "# change an existing email address, and\n",
    "\n",
    "def update_email():\n",
    "    name = input(\"Enter a name:\")\n",
    "    new_email = input(\"Enter the new email address: \")\n",
    "    emails[name] = new_email\n",
    "    print(f'{name}\\'s email has been updated')\n",
    "    \n",
    "update_email()"
   ]
  },
  {
   "cell_type": "code",
   "execution_count": 49,
   "id": "1e200367-f55b-4b28-b04a-cf29be5f726b",
   "metadata": {},
   "outputs": [
    {
     "name": "stdin",
     "output_type": "stream",
     "text": [
      "Enter a name to be deleted:  Tony Stark\n"
     ]
    },
    {
     "name": "stdout",
     "output_type": "stream",
     "text": [
      "Tony Stark has been deleted from emails\n"
     ]
    }
   ],
   "source": [
    "# delete an existing name and email address.\n",
    "\n",
    "def delete_email():\n",
    "    name = input(\"Enter a name to be deleted: \")\n",
    "    del(emails[name])\n",
    "    print(f'{name} has been deleted from emails')\n",
    "\n",
    "delete_email()"
   ]
  },
  {
   "cell_type": "code",
   "execution_count": 50,
   "id": "2181c8c6-f78c-4dd1-b1f3-1126c990ea9c",
   "metadata": {},
   "outputs": [
    {
     "name": "stdout",
     "output_type": "stream",
     "text": [
      "Peter Parker : pparker@thedailybugle.com\n",
      "Norman Osborn : normanosborn@oscorp.org\n",
      "Nick Fury : fury@shield.gov\n",
      "Wanda Maximoff : scarlettwitch@avengers.com\n",
      "Susan Storm : sustorm@ff.org\n",
      "T'Challa : blackpanther@wakanda.com\n"
     ]
    }
   ],
   "source": [
    "for contact in emails:\n",
    "    print(f'{contact} : {emails[contact]}')"
   ]
  },
  {
   "cell_type": "code",
   "execution_count": null,
   "id": "082b2bad-8d68-4875-ab54-2e4782e4f6f2",
   "metadata": {},
   "outputs": [],
   "source": []
  }
 ],
 "metadata": {
  "kernelspec": {
   "display_name": "Python 3 (ipykernel)",
   "language": "python",
   "name": "python3"
  },
  "language_info": {
   "codemirror_mode": {
    "name": "ipython",
    "version": 3
   },
   "file_extension": ".py",
   "mimetype": "text/x-python",
   "name": "python",
   "nbconvert_exporter": "python",
   "pygments_lexer": "ipython3",
   "version": "3.9.13"
  }
 },
 "nbformat": 4,
 "nbformat_minor": 5
}
