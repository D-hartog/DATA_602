{
 "cells": [
  {
   "cell_type": "markdown",
   "id": "241759b9-3bd8-4727-82ce-a620084be894",
   "metadata": {},
   "source": [
    "# Q1 Creat a class called BankAccount the has four attributes:\n",
    "\n",
    "- bankname\n",
    "- firstname \n",
    "- lastname\n",
    "- balance (default balance = 0)\n",
    "\n",
    "## In addition, create...\n",
    "- A method called deposit() that allows the user to make a deposit into their balance \n",
    "- A method called withdrawal() that allows the user to withdraw from their balance.\n",
    "- Withdrawal may not exceed the available balance. Hint: consider a conditional argument\n",
    "in your withdrawal() method.\n",
    "- Use the __str__() method in order to display the bank name, owner name, and current\n",
    "balance.\n",
    "- Make a series of deposits and withdrawals to test your class.\n"
   ]
  },
  {
   "cell_type": "code",
   "execution_count": 221,
   "id": "380dccf0-9c36-4e3e-8115-cb9358130aaf",
   "metadata": {},
   "outputs": [],
   "source": [
    "class BankAccount: \n",
    "    \n",
    "    def __init__(self, bankname, firstname, lastname, balance = 0): # You can makje this more interactive\n",
    "        self.bankname = bankname\n",
    "        self.firstname = firstname\n",
    "        self.lastname = lastname\n",
    "        self.balance = balance\n",
    "        \n",
    "    def deposit(self, d_amount): \n",
    "        self.amount = d_amount\n",
    "        self.balance += d_amount\n",
    "        \n",
    "    def withdrawal(self, w_amount): \n",
    "        if w_amount > self.balance:\n",
    "            print(f'The amount of ${w_amount :.2f} exceeds your current balance')\n",
    "        else:\n",
    "            self.w_amount = w_amount\n",
    "            self.balance -= w_amount\n",
    "            \n",
    "    def __str__(self):\n",
    "        cust_str = f\"\"\"Bank Name: {self.bankname}\n",
    " Name: {self.firstname} {self.lastname}\n",
    " Balance: ${self.balance :.2f}\"\"\"\n",
    "        \n",
    "        return cust_str\n",
    "        "
   ]
  },
  {
   "cell_type": "code",
   "execution_count": 222,
   "id": "2c0bdc5d-8ed3-421e-b8a9-5630652f78b3",
   "metadata": {},
   "outputs": [],
   "source": [
    "b1 = BankAccount(\"D's Bank\", \"Dirk\", \"Hartog\", 100)"
   ]
  },
  {
   "cell_type": "code",
   "execution_count": 223,
   "id": "85dceadc-292a-40fc-89e5-dba940f83a72",
   "metadata": {},
   "outputs": [],
   "source": [
    "b1.deposit(300)"
   ]
  },
  {
   "cell_type": "code",
   "execution_count": 224,
   "id": "37d67188-9882-416c-8862-4b69aaf4ca54",
   "metadata": {},
   "outputs": [
    {
     "data": {
      "text/plain": [
       "400"
      ]
     },
     "execution_count": 224,
     "metadata": {},
     "output_type": "execute_result"
    }
   ],
   "source": [
    "b1.balance"
   ]
  },
  {
   "cell_type": "code",
   "execution_count": 225,
   "id": "a37ed3ae-b702-43fb-a986-5447a1a7a1db",
   "metadata": {},
   "outputs": [],
   "source": [
    "b1.withdrawal(100)"
   ]
  },
  {
   "cell_type": "code",
   "execution_count": 226,
   "id": "819a8833-d57c-4d78-9dc0-ead5595d2f9d",
   "metadata": {},
   "outputs": [
    {
     "data": {
      "text/plain": [
       "300"
      ]
     },
     "execution_count": 226,
     "metadata": {},
     "output_type": "execute_result"
    }
   ],
   "source": [
    "b1.balance"
   ]
  },
  {
   "cell_type": "code",
   "execution_count": 227,
   "id": "f0bb7f0c-d05b-4e4f-b673-59adde60167c",
   "metadata": {},
   "outputs": [],
   "source": [
    "b1.deposit(1550)"
   ]
  },
  {
   "cell_type": "code",
   "execution_count": 228,
   "id": "f9233ff5-578b-49a2-8625-cf4190154056",
   "metadata": {},
   "outputs": [
    {
     "data": {
      "text/plain": [
       "1850"
      ]
     },
     "execution_count": 228,
     "metadata": {},
     "output_type": "execute_result"
    }
   ],
   "source": [
    "b1.balance"
   ]
  },
  {
   "cell_type": "code",
   "execution_count": 229,
   "id": "6a45bfe0-830c-46b5-907d-457089e67528",
   "metadata": {},
   "outputs": [
    {
     "name": "stdout",
     "output_type": "stream",
     "text": [
      "The amount of $2000.00 exceeds your current balance\n"
     ]
    }
   ],
   "source": [
    "b1.withdrawal(2000)"
   ]
  },
  {
   "cell_type": "markdown",
   "id": "8ab4acf7-9681-4e82-b515-a9807b11ba25",
   "metadata": {},
   "source": [
    "# Q2: Create a class Box that has attributes length and width:\n",
    "- The values for length and width should be created upon construction (instantiation via the constructor).\n",
    "\n",
    "## In addition create, \n",
    "- A method called render() that prints out to the screen a box made with asterisks of\n",
    "length and width dimensions\n",
    "- A method called invert() that switches length and width with each other\n",
    "- A methods get_area() and get_perimeter() that return appropriate geometric calculations\n",
    "- A method called double() that doubles the size of the box. Hint: Pay attention to return\n",
    "value here.\n",
    "- Implement __eq__ so that two boxes can be compared using ==. Two boxes are equal if\n",
    "their respective lengths and widths are identical.\n",
    "- A method print_dim() that prints to screen the length and width details of the box\n",
    "- A method get_dim() that returns a tuple containing the length and width of the box\n",
    "- A method combine() that takes another box as an argument and increases the length\n",
    "and width by the dimensions of the box passed in\n",
    "- A method get_hypot() that finds the length of the diagonal that cuts through the middle\n",
    "\n",
    "\n",
    "- Instantiate 3 boxes of dimensions 5,10, 3,4 and 5,10 and assign to variables box1, box2 and box3 respectively\n",
    "    - Print dimension info for each using print_dim()\n",
    "    - Evaluate if box1 == box2, and also evaluate if box1 == box3, print True or False to the screen accordingly\n",
    "    - Combine box3 into box1 (i.e. box1.combine())\n",
    "    - Double the size of box2\n",
    "    - Combine box2 into box1"
   ]
  },
  {
   "cell_type": "code",
   "execution_count": 207,
   "id": "facc56ef-1750-4ad2-a489-6dd08c7468db",
   "metadata": {},
   "outputs": [],
   "source": [
    "class Box:\n",
    "    \n",
    "    def __init__(self, length, width):\n",
    "        self.length, self.width = length, width\n",
    "    \n",
    "    def render(self):\n",
    "        print(((\"* \" * self.width) + \"\\n\") * self.length)\n",
    "        \n",
    "    def invert(self):\n",
    "        self.width = self.length \n",
    "        self.length = self.width \n",
    "    \n",
    "    def area(self):\n",
    "        area = self.length * self.width\n",
    "        return area\n",
    "    \n",
    "    def perimeter(self):\n",
    "        perimeter = (2 * self.length) + (2 * self.width) \n",
    "        return perimeter\n",
    "    \n",
    "    def double(self):\n",
    "        self.length *= 2\n",
    "        self.width *= 2\n",
    "        self.print_dim()\n",
    "        self.get_dim()\n",
    "    \n",
    "    def __eq__(self, a):\n",
    "        return self.get_dim() == a.get_dim()\n",
    "    \n",
    "    def print_dim(self):\n",
    "        print(f'The dimensions of the box are width: {self.length} and length: {self.width}')\n",
    "        \n",
    "    def get_dim(self): \n",
    "        dim_tuple = (self.length, self.width)\n",
    "        return dim_tuple\n",
    "        \n",
    "    def combine(self, box):\n",
    "        self.length += box.length\n",
    "        self.width += box.width\n",
    "        \n",
    "    def hypot(self):\n",
    "        import math\n",
    "        hypotenuse = math.sqrt((self.length ** 2) + (self.width ** 2))\n",
    "        return hypotenuse\n",
    "        \n",
    "        "
   ]
  },
  {
   "cell_type": "code",
   "execution_count": 215,
   "id": "c2f0a877-1fd3-4445-bfc4-836a9acc545a",
   "metadata": {},
   "outputs": [],
   "source": [
    "box1 = Box(5,10)\n",
    "box2 = Box(3,4)\n",
    "box3 = Box(5,10)"
   ]
  },
  {
   "cell_type": "code",
   "execution_count": 216,
   "id": "98414e5b-90cf-4cca-9cd9-312ee20b7bba",
   "metadata": {},
   "outputs": [
    {
     "name": "stdout",
     "output_type": "stream",
     "text": [
      "The dimensions of the box are width: 5 and length: 10\n",
      "The dimensions of the box are width: 3 and length: 4\n",
      "The dimensions of the box are width: 5 and length: 10\n"
     ]
    }
   ],
   "source": [
    "box1.print_dim()\n",
    "box2.print_dim()\n",
    "box3.print_dim()"
   ]
  },
  {
   "cell_type": "code",
   "execution_count": 217,
   "id": "082ff18a-0955-4884-aade-6f60028730ed",
   "metadata": {},
   "outputs": [
    {
     "name": "stdout",
     "output_type": "stream",
     "text": [
      "False\n",
      "True\n"
     ]
    }
   ],
   "source": [
    "print(box1 == box2)\n",
    "print(box1 == box3)"
   ]
  },
  {
   "cell_type": "code",
   "execution_count": 218,
   "id": "12f67280-91d0-406b-bb6d-ac062ad073b2",
   "metadata": {},
   "outputs": [
    {
     "name": "stdout",
     "output_type": "stream",
     "text": [
      "The dimensions of the box are width: 10 and length: 20\n"
     ]
    }
   ],
   "source": [
    "box1.combine(box3)\n",
    "box1.print_dim()"
   ]
  },
  {
   "cell_type": "code",
   "execution_count": 219,
   "id": "6c7259db-9a61-4559-9b3d-373fe4d29909",
   "metadata": {},
   "outputs": [
    {
     "name": "stdout",
     "output_type": "stream",
     "text": [
      "The dimensions of the box are width: 6 and length: 8\n"
     ]
    }
   ],
   "source": [
    "box2.double()"
   ]
  },
  {
   "cell_type": "code",
   "execution_count": 220,
   "id": "18c3370e-da16-4d93-8bd1-8fc04eadabca",
   "metadata": {},
   "outputs": [
    {
     "name": "stdout",
     "output_type": "stream",
     "text": [
      "The dimensions of the box are width: 16 and length: 28\n"
     ]
    }
   ],
   "source": [
    "box1.combine(box2)\n",
    "box1.print_dim()"
   ]
  },
  {
   "cell_type": "code",
   "execution_count": null,
   "id": "4ed7bb9f-d644-4ad1-8311-a743e2336d36",
   "metadata": {},
   "outputs": [],
   "source": []
  }
 ],
 "metadata": {
  "kernelspec": {
   "display_name": "Python 3 (ipykernel)",
   "language": "python",
   "name": "python3"
  },
  "language_info": {
   "codemirror_mode": {
    "name": "ipython",
    "version": 3
   },
   "file_extension": ".py",
   "mimetype": "text/x-python",
   "name": "python",
   "nbconvert_exporter": "python",
   "pygments_lexer": "ipython3",
   "version": "3.9.13"
  }
 },
 "nbformat": 4,
 "nbformat_minor": 5
}
