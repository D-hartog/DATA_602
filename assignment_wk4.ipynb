{
 "cells": [
  {
   "cell_type": "markdown",
   "id": "321c7ce1-9b3d-45aa-ae86-d5742b936ac9",
   "metadata": {},
   "source": [
    "### Q1: Write a program that prompts the user for a meal: breakfast, lunch, or dinner. \n",
    "\n",
    "- Then using if statements and else statements print the user a message recommending a meal. \n",
    "- For example, if the meal was breakfast, you could say something like, “How about some bacon and eggs?”\n",
    "\n",
    "The user may enter something else in, but you only have to respond to breakfast, lunch, or dinner."
   ]
  },
  {
   "cell_type": "code",
   "execution_count": 4,
   "id": "d1d36909-63fc-41b2-9347-306c232b9956",
   "metadata": {},
   "outputs": [
    {
     "name": "stdin",
     "output_type": "stream",
     "text": [
      "What meal are you looking to eat? Breakfast, Lunch or Dinner. Dinner\n"
     ]
    },
    {
     "name": "stdout",
     "output_type": "stream",
     "text": [
      "Ok. Looks like you're ready dinner. Unfortunately, our dinner is not that good :(\n",
      "    But there are many great options here in New York City!\n",
      "    - Mad For Chicken for Korean fried chicken (many locations)\n",
      "    - Lucali's in Brooklyn for Pizza\n",
      "    - Xi'an Famous Foods for Chinese food (many locations)\n",
      "    - Minetta Tavern for steak or a burger\n",
      "    \n"
     ]
    }
   ],
   "source": [
    "meal_choice = input(\"What meal are you looking to eat? Breakfast, Lunch or Dinner.\")\n",
    "meal_choice = meal_choice.lower()\n",
    "\n",
    "if meal_choice == \"breakfast\":\n",
    "    option_one = \"Bacon/Sausage/No meat, eggs and toast\"\n",
    "    option_two = \"Pancakes with a side of fruit\"\n",
    "    option_three = \"Yogurt and berries\"\n",
    "    \n",
    "    print(f'''Great! You've selected breakfast. You have three options:\n",
    "    1. {option_one} \n",
    "    2. {option_two}\n",
    "    3. {option_three}.''')\n",
    "    \n",
    "    selection = input(\"Please select an option (1, 2 or 3).\")\n",
    "    if selection == \"1\":\n",
    "        print(f\"You've selected {option_one}. Coming right up!\")\n",
    "    elif selection == \"2\":\n",
    "        print(f\"You've selected {option_two}. Coming right up!\")\n",
    "    elif selection == \"3\":\n",
    "        print(f\"You've selected {option_three}. Coming right up!\")\n",
    "    else: \n",
    "        print(\"Please try another selection\")\n",
    "\n",
    "elif meal_choice == \"lunch\":\n",
    "    option_one = \"Pork and shrimp dumplings\"\n",
    "    option_two = \"Buckwheat noodles with veggies\"\n",
    "    \n",
    "    print(f'''Excellent. Lunchtime! For lunch we have a limited menu. Select between:\n",
    "    1. {option_one}\n",
    "    2. {option_two}\n",
    "    ''')\n",
    "    \n",
    "    selection = input(\"Please select an option (1 or 2).\")\n",
    "    if selection == \"1\":\n",
    "        print(f\"You've selected {option_one}. Coming right up!\")\n",
    "    elif selection == \"2\":\n",
    "        print(f\"You've selected {option_two}. Coming right up!\")\n",
    "    else: \n",
    "        print(\"Sorry, we don't have that!\")\n",
    "\n",
    "elif meal_choice == \"dinner\":\n",
    "    print(f'''Ok. Looks like you're ready dinner. Unfortunately, our dinner is not that good :(\n",
    "    But there are many great options here in New York City!\n",
    "    - Mad For Chicken for Korean fried chicken (many locations)\n",
    "    - Lucali's in Brooklyn for Pizza\n",
    "    - Xi'an Famous Foods for Chinese food (many locations)\n",
    "    - Minetta Tavern for steak or a burger\n",
    "    ''')\n",
    "\n",
    "else: \n",
    "    print(\"We only serve breakfast, lunch, and suggestions for dinner\")"
   ]
  },
  {
   "cell_type": "markdown",
   "id": "439ce851-827b-4a2d-ae7b-a58e456d53bb",
   "metadata": {},
   "source": [
    "### Q2: The mailroom has asked you to design a simple payroll program that calculates a student employee’s gross pay, including any overtime wages. \n",
    "\n",
    "- If any employee works over 20 hours in a week, the mailroom pays them 1.5 times their regular hourly pay \n",
    "rate for all hours over 20. \n",
    "- You should take in the user’s input for the number of hours worked, and their rate of pay.\n",
    "\n"
   ]
  },
  {
   "cell_type": "code",
   "execution_count": 5,
   "id": "8928091d-f8db-455a-b08c-e68215e400f0",
   "metadata": {},
   "outputs": [],
   "source": [
    "def student_pay(): \n",
    "    # get numbers of hours worked \n",
    "    hours = input(\"Enter the number of hours worked this week:\")\n",
    "    hours = float(hours)\n",
    "    \n",
    "    # get hourly pay rate\n",
    "    rate = input(\"Enter your hourly pay rate:\")\n",
    "    rate = float(rate)\n",
    "    \n",
    "    if hours > 20:\n",
    "        reg_pay = 20 * rate\n",
    "        overtime_rate = rate * 1.5\n",
    "        overtime = hours - 20\n",
    "        overtime_pay = overtime_rate * overtime\n",
    "        total_pay = reg_pay + overtime_pay\n",
    "        print(f'You worked {hours} hours this week and made ${total_pay:.2f}.')\n",
    "    else: \n",
    "        total_pay = hours * rate\n",
    "        print(f'You worked {hours} hours this week and made ${total_pay:.2f}.')\n"
   ]
  },
  {
   "cell_type": "code",
   "execution_count": 6,
   "id": "1dfe7af2-4277-42d3-b2dc-25e3b671e681",
   "metadata": {},
   "outputs": [
    {
     "name": "stdin",
     "output_type": "stream",
     "text": [
      "Enter the number of hours worked this week: 5\n",
      "Enter your hourly pay rate: 30\n"
     ]
    },
    {
     "name": "stdout",
     "output_type": "stream",
     "text": [
      "You worked 5.0 hours this week and made $150.00.\n"
     ]
    }
   ],
   "source": [
    "student_pay()"
   ]
  },
  {
   "cell_type": "markdown",
   "id": "ff85e16c-55c1-43f0-9c1a-bc76385f4a42",
   "metadata": {},
   "source": [
    "### Q3: Write a function named times_ten. The function should accept an argument and display the product of its argument multiplied times 10."
   ]
  },
  {
   "cell_type": "code",
   "execution_count": 31,
   "id": "1467f06e-6122-4f00-9e14-ff06d5dc7c22",
   "metadata": {},
   "outputs": [],
   "source": [
    "# using conventional function code\n",
    "\n",
    "def times_ten(x = 1):\n",
    "    \"This function takes the argument x and multiplies it by 10\"\n",
    "    \n",
    "    try: \n",
    "        print(x * 10)\n",
    "        return x * 10\n",
    "    \n",
    "    except TypeError:\n",
    "        print(f\"This function does not work with arguments of type: {type(x)}\")"
   ]
  },
  {
   "cell_type": "code",
   "execution_count": 34,
   "id": "b0b5b8ea-2787-410a-8e18-8cced019708c",
   "metadata": {},
   "outputs": [
    {
     "name": "stdout",
     "output_type": "stream",
     "text": [
      "500\n"
     ]
    }
   ],
   "source": [
    "product = times_ten(50)"
   ]
  },
  {
   "cell_type": "code",
   "execution_count": null,
   "id": "bc93acbe-3c80-499f-a1ff-876c66735485",
   "metadata": {},
   "outputs": [],
   "source": [
    "# Using lambda functions "
   ]
  },
  {
   "cell_type": "code",
   "execution_count": 35,
   "id": "87d00a47-00dd-49c5-8ca4-fb160a8841d9",
   "metadata": {},
   "outputs": [],
   "source": [
    "multiply = lambda x : x * 10"
   ]
  },
  {
   "cell_type": "code",
   "execution_count": 38,
   "id": "094ac8f2-414a-46c8-9600-f3ff02f282e1",
   "metadata": {},
   "outputs": [
    {
     "data": {
      "text/plain": [
       "60"
      ]
     },
     "execution_count": 38,
     "metadata": {},
     "output_type": "execute_result"
    }
   ],
   "source": [
    "multiply(6)"
   ]
  },
  {
   "cell_type": "markdown",
   "id": "104ebf89-11c2-4f63-b2e0-ef724d07e6ad",
   "metadata": {},
   "source": [
    "### Q4: Find the errors, debug the program, and then execute to show the output."
   ]
  },
  {
   "cell_type": "code",
   "execution_count": 32,
   "id": "12db927f-d5c4-4e42-acbd-06e97e12a778",
   "metadata": {},
   "outputs": [
    {
     "ename": "SyntaxError",
     "evalue": "invalid syntax (830948132.py, line 3)",
     "output_type": "error",
     "traceback": [
      "\u001b[0;36m  File \u001b[0;32m\"/var/folders/85/mb8f618d7fg208txtk5n8ddc0000gn/T/ipykernel_2998/830948132.py\"\u001b[0;36m, line \u001b[0;32m3\u001b[0m\n\u001b[0;31m    def main()\u001b[0m\n\u001b[0m              ^\u001b[0m\n\u001b[0;31mSyntaxError\u001b[0m\u001b[0;31m:\u001b[0m invalid syntax\n"
     ]
    }
   ],
   "source": [
    "# Original code \n",
    "\n",
    "def main()\n",
    "    Calories1 = input( \"How many calories are in the first food?\")\n",
    "    Calories2 = input( \"How many calories are in the first food?\")\n",
    "    showCalories(calories1, calories2)\n",
    "\n",
    "    \n",
    "def showCalories()   \n",
    "   print(“The total calories you ate today”, format(calories1 + calories2,.2f))"
   ]
  },
  {
   "cell_type": "code",
   "execution_count": 72,
   "id": "c8cfe5c3-2f7e-4fb1-9018-33be021f4d02",
   "metadata": {},
   "outputs": [],
   "source": [
    "# Corrected code\n",
    "\n",
    "def main(): # Added colon\n",
    "    Calories1 = input(\"How many calories are in the first food?\")\n",
    "    Calories2 = input(\"How many calories are in the first food?\")\n",
    "    showCalories(Calories1, Calories2)\n",
    "\n",
    "def showCalories(Calories1, Calories2): # Added colon\n",
    "    \n",
    "    # Added a new variable that converted the data of the Calorie input to float and added them together\n",
    "    total_calories = float(Calories1) + float(Calories2) \n",
    "    \n",
    "    # Need to change , format to .format and the posiiton of the argument that it took\n",
    "    print(\"The total calories you ate today are {0:.2f}\".format(total_calories))"
   ]
  },
  {
   "cell_type": "code",
   "execution_count": 73,
   "id": "fdb82623-d690-4a12-9c5a-cb5412c2b82e",
   "metadata": {},
   "outputs": [],
   "source": [
    "# We can now run both functions sperately and main() will now run showCalories wihotut an issue"
   ]
  },
  {
   "cell_type": "code",
   "execution_count": null,
   "id": "89c5cd9e-0548-4b16-90b6-da28ac7efdb3",
   "metadata": {},
   "outputs": [],
   "source": [
    "main()"
   ]
  },
  {
   "cell_type": "code",
   "execution_count": null,
   "id": "b759ddb0-f1b8-4a43-803f-1eec12deb3e0",
   "metadata": {},
   "outputs": [],
   "source": [
    "showCalories()"
   ]
  },
  {
   "cell_type": "markdown",
   "id": "fa584bb3-9a23-473f-b75d-745968471f91",
   "metadata": {},
   "source": [
    "### Q5: Write a program that uses any loop (while or for) that calculates the total of the following series of numbers:\n",
    "         1/30 + 2/29 + 3/28 ............. + 30/1\n",
    "\n"
   ]
  },
  {
   "cell_type": "code",
   "execution_count": 80,
   "id": "17c02325-aee7-4d64-b861-fa4211db93c8",
   "metadata": {},
   "outputs": [
    {
     "name": "stdout",
     "output_type": "stream",
     "text": [
      "1/30 = 0.033333\n",
      "0.03333333333333333\n",
      "2/29 = 0.068966\n",
      "0.10229885057471264\n",
      "3/28 = 0.107143\n",
      "0.20944170771756976\n",
      "4/27 = 0.148148\n",
      "0.3575898558657179\n",
      "5/26 = 0.192308\n",
      "0.5498975481734102\n",
      "6/25 = 0.240000\n",
      "0.7898975481734102\n",
      "7/24 = 0.291667\n",
      "1.0815642148400768\n",
      "8/23 = 0.347826\n",
      "1.4293903017965985\n",
      "9/22 = 0.409091\n",
      "1.8384812108875077\n",
      "10/21 = 0.476190\n",
      "2.314671687077984\n",
      "11/20 = 0.550000\n",
      "2.8646716870779843\n",
      "12/19 = 0.631579\n",
      "3.4962506344464055\n",
      "13/18 = 0.722222\n",
      "4.218472856668628\n",
      "14/17 = 0.823529\n",
      "5.042002268433333\n",
      "15/16 = 0.937500\n",
      "5.979502268433333\n",
      "16/15 = 1.066667\n",
      "7.0461689351\n",
      "17/14 = 1.214286\n",
      "8.260454649385714\n",
      "18/13 = 1.384615\n",
      "9.6450700340011\n",
      "19/12 = 1.583333\n",
      "11.228403367334433\n",
      "20/11 = 1.818182\n",
      "13.046585185516252\n",
      "21/10 = 2.100000\n",
      "15.146585185516251\n",
      "22/9 = 2.444444\n",
      "17.591029629960694\n",
      "23/8 = 2.875000\n",
      "20.466029629960694\n",
      "24/7 = 3.428571\n",
      "23.89460105853212\n",
      "25/6 = 4.166667\n",
      "28.06126772519879\n",
      "26/5 = 5.200000\n",
      "33.26126772519879\n",
      "27/4 = 6.750000\n",
      "40.01126772519879\n",
      "28/3 = 9.333333\n",
      "49.34460105853213\n",
      "29/2 = 14.500000\n",
      "63.84460105853213\n",
      "30/1 = 30.000000\n",
      "93.84460105853213\n",
      "The sum of the fractions equals: 93.844601\n"
     ]
    }
   ],
   "source": [
    "# while loop\n",
    "\n",
    "i = 1 \n",
    "j = 30\n",
    "fraction_sum = 0 \n",
    "\n",
    "while i <= 30 and j >= 1:\n",
    "    fraction_sum += i/j\n",
    "    print(f'{i}/{j} = {i/j:.6f}')\n",
    "    print(fraction_sum)\n",
    "    i += +1\n",
    "    j -= 1\n",
    "    \n",
    "print(f'The sum of the fractions equals: {fraction_sum :.6f}')"
   ]
  },
  {
   "cell_type": "code",
   "execution_count": 115,
   "id": "bcc0dec1-fb58-40ff-b8be-3739070d485b",
   "metadata": {},
   "outputs": [
    {
     "name": "stdout",
     "output_type": "stream",
     "text": [
      "93.84460105853213\n"
     ]
    }
   ],
   "source": [
    "# for loop\n",
    "\n",
    "int_list = list(range(1,31))\n",
    "i = -1\n",
    "fraction_sum = 0 \n",
    "\n",
    "for n in int_list: \n",
    "    fraction_sum += n/(int_list[i])\n",
    "    i += -1\n",
    "    \n",
    "print(fraction_sum)\n"
   ]
  },
  {
   "cell_type": "code",
   "execution_count": 136,
   "id": "6902ed1e-beef-42a9-a0d4-d96a022fb8c5",
   "metadata": {},
   "outputs": [
    {
     "name": "stdout",
     "output_type": "stream",
     "text": [
      "The sum of fractions created by the a list of numbers 1-30 is 93.84460105853213\n"
     ]
    }
   ],
   "source": [
    "# Optional option - decided to play around with numpy\n",
    "\n",
    "numbers = np.array(range(1,31))\n",
    "numbers_flipped = np.flip(np.array(range(1,31)))\n",
    "\n",
    "print(f'The sum of fractions created by the a list of numbers 1-30 is {sum(numbers / numbers_flipped)}')\n"
   ]
  },
  {
   "cell_type": "markdown",
   "id": "e69ee5b1-2bbb-451e-a846-dc1f5c85ffa7",
   "metadata": {},
   "source": [
    "### Q6: Write a function that computes the area of a triangle given its base and height.\n",
    "\n",
    "The formula for an area of a triangle is:\n",
    "AREA = 1/2 * BASE * HEIGHT\n",
    "\n",
    "- For example, if the base was 5 and the height was 4, the area would be 10.\n",
    "- triangle_area(5, 4)   # should print 10\n"
   ]
  },
  {
   "cell_type": "code",
   "execution_count": 176,
   "id": "a17fac2d-5a5d-4dd2-b343-ad13049a2a67",
   "metadata": {},
   "outputs": [],
   "source": [
    "def triangle_area():\n",
    "    # Get base and height from user\n",
    "    base = input(\"Enter a number for the base:\")\n",
    "    height = input(\"Enter a number for the height:\")\n",
    "    \n",
    "    # Convert \n",
    "    try:\n",
    "        area = .5 * (float(base) * float(height))\n",
    "        print(\"The area of your rectangle is:\\n{0}\".format(area))\n",
    "        \n",
    "    # Print message if not a valid number \n",
    "    except ValueError:\n",
    "        print(\"You did not enter a valid number\")"
   ]
  },
  {
   "cell_type": "code",
   "execution_count": 177,
   "id": "f0a20654-751e-46b1-bc76-299d8757952d",
   "metadata": {},
   "outputs": [
    {
     "name": "stdin",
     "output_type": "stream",
     "text": [
      "Enter a number for the base: 5\n",
      "Enter a number for the height: 4\n"
     ]
    },
    {
     "name": "stdout",
     "output_type": "stream",
     "text": [
      "The area of your rectangle is:\n",
      "10.0\n"
     ]
    }
   ],
   "source": [
    "triangle_area()"
   ]
  },
  {
   "cell_type": "code",
   "execution_count": null,
   "id": "23333384-45a3-47f9-ae1e-5fc4d5826203",
   "metadata": {},
   "outputs": [],
   "source": []
  }
 ],
 "metadata": {
  "kernelspec": {
   "display_name": "Python 3 (ipykernel)",
   "language": "python",
   "name": "python3"
  },
  "language_info": {
   "codemirror_mode": {
    "name": "ipython",
    "version": 3
   },
   "file_extension": ".py",
   "mimetype": "text/x-python",
   "name": "python",
   "nbconvert_exporter": "python",
   "pygments_lexer": "ipython3",
   "version": "3.9.13"
  }
 },
 "nbformat": 4,
 "nbformat_minor": 5
}
